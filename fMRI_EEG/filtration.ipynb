{
 "metadata": {
  "name": "",
  "signature": "sha256:80442f1b4781049770b9509d52d7dafa7bbc58c1bef9374020572312c0edccdc"
 },
 "nbformat": 3,
 "nbformat_minor": 0,
 "worksheets": [
  {
   "cells": [
    {
     "cell_type": "code",
     "collapsed": false,
     "input": [],
     "language": "python",
     "metadata": {},
     "outputs": []
    }
   ],
   "metadata": {}
  }
 ]
}